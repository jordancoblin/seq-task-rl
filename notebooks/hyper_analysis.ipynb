{
 "cells": [
  {
   "cell_type": "code",
   "execution_count": 1,
   "metadata": {},
   "outputs": [
    {
     "name": "stderr",
     "output_type": "stream",
     "text": [
      "/Users/jordancoblin/.pyenv/versions/3.10.8/envs/seq-task-rl-3.10/lib/python3.10/site-packages/tqdm/auto.py:22: TqdmWarning: IProgress not found. Please update jupyter and ipywidgets. See https://ipywidgets.readthedocs.io/en/stable/user_install.html\n",
      "  from .autonotebook import tqdm as notebook_tqdm\n"
     ]
    }
   ],
   "source": [
    "import optuna.visualization as optviz\n",
    "import pickle as pkl\n",
    "import os"
   ]
  },
  {
   "cell_type": "code",
   "execution_count": 2,
   "metadata": {},
   "outputs": [
    {
     "ename": "RuntimeError",
     "evalue": "Encountered zero total variance in all trees.",
     "output_type": "error",
     "traceback": [
      "\u001b[0;31m---------------------------------------------------------------------------\u001b[0m",
      "\u001b[0;31mRuntimeError\u001b[0m                              Traceback (most recent call last)",
      "Cell \u001b[0;32mIn[2], line 12\u001b[0m\n\u001b[1;32m      9\u001b[0m     study \u001b[39m=\u001b[39m pkl\u001b[39m.\u001b[39mload(f)\n\u001b[1;32m     11\u001b[0m fig1 \u001b[39m=\u001b[39m plot_optimization_history(study)\n\u001b[0;32m---> 12\u001b[0m fig2 \u001b[39m=\u001b[39m plot_param_importances(study)\n\u001b[1;32m     14\u001b[0m fig1\u001b[39m.\u001b[39mshow()\n\u001b[1;32m     15\u001b[0m fig2\u001b[39m.\u001b[39mshow()\n",
      "File \u001b[0;32m~/.pyenv/versions/3.10.8/envs/seq-task-rl-3.10/lib/python3.10/site-packages/optuna/visualization/_param_importances.py:140\u001b[0m, in \u001b[0;36mplot_param_importances\u001b[0;34m(study, evaluator, params, target, target_name)\u001b[0m\n\u001b[1;32m     82\u001b[0m \u001b[39m\u001b[39m\u001b[39m\"\"\"Plot hyperparameter importances.\u001b[39;00m\n\u001b[1;32m     83\u001b[0m \n\u001b[1;32m     84\u001b[0m \u001b[39mExample:\u001b[39;00m\n\u001b[0;32m   (...)\u001b[0m\n\u001b[1;32m    135\u001b[0m \u001b[39m    A :class:`plotly.graph_objs.Figure` object.\u001b[39;00m\n\u001b[1;32m    136\u001b[0m \u001b[39m\"\"\"\u001b[39;00m\n\u001b[1;32m    138\u001b[0m _imports\u001b[39m.\u001b[39mcheck()\n\u001b[0;32m--> 140\u001b[0m importances_info \u001b[39m=\u001b[39m _get_importances_info(study, evaluator, params, target, target_name)\n\u001b[1;32m    141\u001b[0m hover_template \u001b[39m=\u001b[39m _get_hover_template(importances_info, study)\n\u001b[1;32m    142\u001b[0m \u001b[39mreturn\u001b[39;00m _get_importances_plot(importances_info, hover_template)\n",
      "File \u001b[0;32m~/.pyenv/versions/3.10.8/envs/seq-task-rl-3.10/lib/python3.10/site-packages/optuna/visualization/_param_importances.py:57\u001b[0m, in \u001b[0;36m_get_importances_info\u001b[0;34m(study, evaluator, params, target, target_name)\u001b[0m\n\u001b[1;32m     49\u001b[0m     logger\u001b[39m.\u001b[39mwarning(\u001b[39m\"\u001b[39m\u001b[39mStudy instance does not contain completed trials.\u001b[39m\u001b[39m\"\u001b[39m)\n\u001b[1;32m     50\u001b[0m     \u001b[39mreturn\u001b[39;00m _ImportancesInfo(\n\u001b[1;32m     51\u001b[0m         importance_values\u001b[39m=\u001b[39m[],\n\u001b[1;32m     52\u001b[0m         param_names\u001b[39m=\u001b[39m[],\n\u001b[1;32m     53\u001b[0m         importance_labels\u001b[39m=\u001b[39m[],\n\u001b[1;32m     54\u001b[0m         target_name\u001b[39m=\u001b[39mtarget_name,\n\u001b[1;32m     55\u001b[0m     )\n\u001b[0;32m---> 57\u001b[0m importances \u001b[39m=\u001b[39m optuna\u001b[39m.\u001b[39;49mimportance\u001b[39m.\u001b[39;49mget_param_importances(\n\u001b[1;32m     58\u001b[0m     study, evaluator\u001b[39m=\u001b[39;49mevaluator, params\u001b[39m=\u001b[39;49mparams, target\u001b[39m=\u001b[39;49mtarget\n\u001b[1;32m     59\u001b[0m )\n\u001b[1;32m     61\u001b[0m importances \u001b[39m=\u001b[39m OrderedDict(\u001b[39mreversed\u001b[39m(\u001b[39mlist\u001b[39m(importances\u001b[39m.\u001b[39mitems())))\n\u001b[1;32m     62\u001b[0m importance_values \u001b[39m=\u001b[39m \u001b[39mlist\u001b[39m(importances\u001b[39m.\u001b[39mvalues())\n",
      "File \u001b[0;32m~/.pyenv/versions/3.10.8/envs/seq-task-rl-3.10/lib/python3.10/site-packages/optuna/importance/__init__.py:103\u001b[0m, in \u001b[0;36mget_param_importances\u001b[0;34m(study, evaluator, params, target, normalize)\u001b[0m\n\u001b[1;32m    100\u001b[0m \u001b[39mif\u001b[39;00m \u001b[39mnot\u001b[39;00m \u001b[39misinstance\u001b[39m(evaluator, BaseImportanceEvaluator):\n\u001b[1;32m    101\u001b[0m     \u001b[39mraise\u001b[39;00m \u001b[39mTypeError\u001b[39;00m(\u001b[39m\"\u001b[39m\u001b[39mEvaluator must be a subclass of BaseImportanceEvaluator.\u001b[39m\u001b[39m\"\u001b[39m)\n\u001b[0;32m--> 103\u001b[0m res \u001b[39m=\u001b[39m evaluator\u001b[39m.\u001b[39;49mevaluate(study, params\u001b[39m=\u001b[39;49mparams, target\u001b[39m=\u001b[39;49mtarget)\n\u001b[1;32m    104\u001b[0m \u001b[39mif\u001b[39;00m normalize:\n\u001b[1;32m    105\u001b[0m     s \u001b[39m=\u001b[39m \u001b[39msum\u001b[39m(res\u001b[39m.\u001b[39mvalues())\n",
      "File \u001b[0;32m~/.pyenv/versions/3.10.8/envs/seq-task-rl-3.10/lib/python3.10/site-packages/optuna/importance/_fanova/_evaluator.py:121\u001b[0m, in \u001b[0;36mFanovaImportanceEvaluator.evaluate\u001b[0;34m(self, study, params, target)\u001b[0m\n\u001b[1;32m    118\u001b[0m target_values: numpy\u001b[39m.\u001b[39mndarray \u001b[39m=\u001b[39m _get_target_values(trials, target)\n\u001b[1;32m    120\u001b[0m evaluator \u001b[39m=\u001b[39m \u001b[39mself\u001b[39m\u001b[39m.\u001b[39m_evaluator\n\u001b[0;32m--> 121\u001b[0m evaluator\u001b[39m.\u001b[39;49mfit(\n\u001b[1;32m    122\u001b[0m     X\u001b[39m=\u001b[39;49mtrans_params,\n\u001b[1;32m    123\u001b[0m     y\u001b[39m=\u001b[39;49mtarget_values,\n\u001b[1;32m    124\u001b[0m     search_spaces\u001b[39m=\u001b[39;49mtrans\u001b[39m.\u001b[39;49mbounds,\n\u001b[1;32m    125\u001b[0m     column_to_encoded_columns\u001b[39m=\u001b[39;49mtrans\u001b[39m.\u001b[39;49mcolumn_to_encoded_columns,\n\u001b[1;32m    126\u001b[0m )\n\u001b[1;32m    127\u001b[0m param_importances \u001b[39m=\u001b[39m numpy\u001b[39m.\u001b[39marray(\n\u001b[1;32m    128\u001b[0m     [evaluator\u001b[39m.\u001b[39mget_importance(i)[\u001b[39m0\u001b[39m] \u001b[39mfor\u001b[39;00m i \u001b[39min\u001b[39;00m \u001b[39mrange\u001b[39m(\u001b[39mlen\u001b[39m(non_single_distributions))]\n\u001b[1;32m    129\u001b[0m )\n\u001b[1;32m    130\u001b[0m param_importances \u001b[39m/\u001b[39m\u001b[39m=\u001b[39m numpy\u001b[39m.\u001b[39msum(param_importances)\n",
      "File \u001b[0;32m~/.pyenv/versions/3.10.8/envs/seq-task-rl-3.10/lib/python3.10/site-packages/optuna/importance/_fanova/_fanova.py:77\u001b[0m, in \u001b[0;36m_Fanova.fit\u001b[0;34m(self, X, y, search_spaces, column_to_encoded_columns)\u001b[0m\n\u001b[1;32m     72\u001b[0m \u001b[39mself\u001b[39m\u001b[39m.\u001b[39m_variances \u001b[39m=\u001b[39m {}\n\u001b[1;32m     74\u001b[0m \u001b[39mif\u001b[39;00m \u001b[39mall\u001b[39m(tree\u001b[39m.\u001b[39mvariance \u001b[39m==\u001b[39m \u001b[39m0\u001b[39m \u001b[39mfor\u001b[39;00m tree \u001b[39min\u001b[39;00m \u001b[39mself\u001b[39m\u001b[39m.\u001b[39m_trees):\n\u001b[1;32m     75\u001b[0m     \u001b[39m# If all trees have 0 variance, we cannot assess any importances.\u001b[39;00m\n\u001b[1;32m     76\u001b[0m     \u001b[39m# This could occur if for instance `X.shape[0] == 1`.\u001b[39;00m\n\u001b[0;32m---> 77\u001b[0m     \u001b[39mraise\u001b[39;00m \u001b[39mRuntimeError\u001b[39;00m(\u001b[39m\"\u001b[39m\u001b[39mEncountered zero total variance in all trees.\u001b[39m\u001b[39m\"\u001b[39m)\n",
      "\u001b[0;31mRuntimeError\u001b[0m: Encountered zero total variance in all trees."
     ]
    }
   ],
   "source": [
    "# LOG_FOLDER = \"logs\"\n",
    "# ALGO = \"dqn\"\n",
    "# REPORT_NAME = \"report_MountainCar-v0_4-trials-40000-tpe-median_1673893607\"\n",
    "# log_path = os.path.join(LOG_FOLDER, ALGO, REPORT_NAME)\n",
    "\n",
    "STUDY_PATH = \"../logs/dqn/report_MountainCar-v0_4-trials-40000-tpe-median_1673893607.pkl\"\n",
    "\n",
    "with open(STUDY_PATH, \"rb\") as f:\n",
    "    study = pkl.load(f)\n",
    "\n",
    "fig1 = optviz.plot_optimization_history(study)\n",
    "fig2 = optviz.plot_param_importances(study)\n",
    "fig3 = optviz.plot_slice(study, params=[\"gamma\", \"learning_rate\"])\n",
    "\n",
    "fig1.show()\n",
    "fig2.show()\n",
    "fig3.show()"
   ]
  },
  {
   "cell_type": "code",
   "execution_count": null,
   "metadata": {},
   "outputs": [],
   "source": []
  }
 ],
 "metadata": {
  "kernelspec": {
   "display_name": "seq-task-rl-3.10",
   "language": "python",
   "name": "python3"
  },
  "language_info": {
   "codemirror_mode": {
    "name": "ipython",
    "version": 3
   },
   "file_extension": ".py",
   "mimetype": "text/x-python",
   "name": "python",
   "nbconvert_exporter": "python",
   "pygments_lexer": "ipython3",
   "version": "3.10.8"
  },
  "orig_nbformat": 4,
  "vscode": {
   "interpreter": {
    "hash": "cab613c4c5fb51370d06ce596521d45847dea1fa475c74b03b518bad8339cdd2"
   }
  }
 },
 "nbformat": 4,
 "nbformat_minor": 2
}
